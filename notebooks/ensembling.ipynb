{
 "cells": [
  {
   "cell_type": "code",
   "execution_count": null,
   "metadata": {},
   "outputs": [],
   "source": [
    "from google.colab import drive\n",
    "drive.mount('/content/drive')"
   ]
  },
  {
   "cell_type": "markdown",
   "metadata": {},
   "source": [
    "I have saved the numpy arrays containing the probabilities predicted by each of the models ( Roberta, bert, XLNet) in their respective training noteboooks. So i just have to load them. "
   ]
  },
  {
   "cell_type": "code",
   "execution_count": null,
   "metadata": {},
   "outputs": [],
   "source": [
    "probs_xlnet = np.load('/content/drive/MyDrive/xlnet_probs_8.npy')\n",
    "probs_bert = np.load('/content/drive/MyDrive/bert_probs_7.npy')\n",
    "probs_robert = np.load('/content/drive/MyDrive/robert_probs_8.npy')"
   ]
  },
  {
   "cell_type": "markdown",
   "metadata": {},
   "source": [
    "I simply added the probabilities predicted by each model and took the max of it."
   ]
  },
  {
   "cell_type": "code",
   "execution_count": null,
   "metadata": {},
   "outputs": [],
   "source": [
    "probs_final = probs_robert+probs_xlnet+probs_bert\n",
    "preds_final = np.argmax(probs_final, axis = 1)"
   ]
  }
 ],
 "metadata": {
  "language_info": {
   "name": "python"
  },
  "orig_nbformat": 4
 },
 "nbformat": 4,
 "nbformat_minor": 2
}
